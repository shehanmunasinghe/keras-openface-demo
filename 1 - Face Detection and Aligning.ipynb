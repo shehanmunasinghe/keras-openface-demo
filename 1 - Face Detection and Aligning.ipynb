{
 "cells": [
  {
   "cell_type": "code",
   "execution_count": 1,
   "metadata": {},
   "outputs": [],
   "source": [
    "import sys\n",
    "import dlib\n",
    "import cv2\n",
    "import os\n",
    "\n",
    "#Local Files\n",
    "import align_dlib #Copied from https://github.com/cmusatyalab/openface/blob/master/openface/align_dlib.py"
   ]
  },
  {
   "cell_type": "code",
   "execution_count": 2,
   "metadata": {},
   "outputs": [],
   "source": [
    "# Create a HOG face detector using the built-in dlib class\n",
    "face_detector = dlib.get_frontal_face_detector()\n",
    "\n",
    "#Facial Landmark Detector\n",
    "# You can download the required pre-trained model from  http://dlib.net/files/shape_predictor_68_face_landmarks.dat.bz2\n",
    "predictor_model = \"models/shape_predictor_68_face_landmarks.dat\"\n",
    "face_pose_predictor = dlib.shape_predictor(predictor_model)\n",
    "\n",
    "#Align the faces using align_dlib.py\n",
    "face_aligner = align_dlib.AlignDlib(predictor_model)"
   ]
  },
  {
   "cell_type": "code",
   "execution_count": 3,
   "metadata": {},
   "outputs": [],
   "source": [
    "# Load the image into an array\n",
    "#file_name='images_original/1.jpeg'\n",
    "file_name='images_original/4.jpg'\n",
    "image= cv2.imread(file_name)\n",
    "image = cv2.cvtColor(image, cv2.COLOR_BGR2RGB)"
   ]
  },
  {
   "cell_type": "code",
   "execution_count": 4,
   "metadata": {},
   "outputs": [
    {
     "name": "stdout",
     "output_type": "stream",
     "text": [
      "I found 5 faces in the file images_original/4.jpg\n"
     ]
    }
   ],
   "source": [
    "# Run the HOG face detector on the image data.\n",
    "# The result will be the bounding boxes of the faces in our image.\n",
    "detected_faces = face_detector(image, 1)\n",
    "\n",
    "print(\"I found {} faces in the file {}\".format(len(detected_faces), file_name))"
   ]
  },
  {
   "cell_type": "code",
   "execution_count": 5,
   "metadata": {},
   "outputs": [
    {
     "name": "stdout",
     "output_type": "stream",
     "text": [
      "- Face #0 found at Left: 135 Top: 46 Right: 225 Bottom: 136\n",
      "- Face #1 found at Left: 418 Top: 129 Right: 481 Bottom: 191\n",
      "- Face #2 found at Left: 278 Top: 88 Right: 353 Bottom: 163\n",
      "- Face #3 found at Left: 688 Top: 80 Right: 750 Bottom: 142\n",
      "- Face #4 found at Left: 557 Top: 129 Right: 619 Bottom: 191\n"
     ]
    }
   ],
   "source": [
    "# Open a window on the desktop and show the image\n",
    "win = dlib.image_window()\n",
    "win.set_image(image)\n",
    "\n",
    "# Loop through each face we found in the image\n",
    "for i, face_rect in enumerate(detected_faces):\n",
    "\n",
    "    # Detected faces are returned as an object with the coordinates of the top, left, right and bottom edges\n",
    "    print(\"- Face #{} found at Left: {} Top: {} Right: {} Bottom: {}\".format(i, face_rect.left(), face_rect.top(), face_rect.right(), face_rect.bottom()))\n",
    "    \n",
    "    # Draw a box around each face we found\n",
    "    win.add_overlay(face_rect)\n",
    "    \n",
    "    # Get the the face's pose\n",
    "    pose_landmarks = face_pose_predictor(image, face_rect)\n",
    "\n",
    "    # Use openface to calculate and perform the face alignment\n",
    "    alignedFace = face_aligner.align(96, image, face_rect, landmarkIndices=align_dlib.AlignDlib.OUTER_EYES_AND_NOSE)\n",
    "\n",
    "    # Save the aligned image to a file\n",
    "    alignedFace = cv2.cvtColor(alignedFace, cv2.COLOR_RGB2BGR)\n",
    "    cv2.imwrite(os.path.join(\"out\",\"aligned_face_{}.jpg\".format(i)) , alignedFace)  \n",
    "    \n",
    "# Wait until the user hits <enter> to close the window\t        \n",
    "dlib.hit_enter_to_continue()"
   ]
  },
  {
   "cell_type": "code",
   "execution_count": null,
   "metadata": {},
   "outputs": [],
   "source": []
  }
 ],
 "metadata": {
  "kernelspec": {
   "display_name": "Python 3",
   "language": "python",
   "name": "python3"
  },
  "language_info": {
   "codemirror_mode": {
    "name": "ipython",
    "version": 3
   },
   "file_extension": ".py",
   "mimetype": "text/x-python",
   "name": "python",
   "nbconvert_exporter": "python",
   "pygments_lexer": "ipython3",
   "version": "3.6.3"
  }
 },
 "nbformat": 4,
 "nbformat_minor": 2
}
